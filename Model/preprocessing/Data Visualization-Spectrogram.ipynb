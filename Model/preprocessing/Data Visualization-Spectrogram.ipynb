{
 "cells": [
  {
   "cell_type": "code",
   "execution_count": 2,
   "metadata": {
    "collapsed": true
   },
   "outputs": [],
   "source": [
    "import os  \n",
    "import pandas as pd\n",
    "import numpy as np\n",
    "import matplotlib.pyplot as plt\n",
    "from matplotlib.pylab import rcParams"
   ]
  },
  {
   "cell_type": "code",
   "execution_count": 3,
   "metadata": {
    "collapsed": true
   },
   "outputs": [],
   "source": [
    "PATH = \"D:\\Datasets\\MotionData\\\\\"\n",
    "NEWPATH = \"D:\\Datasets\\MotionData_Mag\\\\\"\n",
    "SPECTPATH = \"D:\\Datasets\\MotionData_Spectrogram\\\\\"\n",
    "actionTags = ['0Walking','1Sitting','2Standing','3Squating','4Lying']"
   ]
  },
  {
   "cell_type": "code",
   "execution_count": 4,
   "metadata": {
    "collapsed": true
   },
   "outputs": [],
   "source": [
    "def GetLeftRightCode(path):\n",
    "    _lrcode = []\n",
    "    lrcode = []\n",
    "    for line in open(path,'r'):\n",
    "        _lrcode.append(line)\n",
    "    for i in range(len(_lrcode)):\n",
    "        lrcode.append(_lrcode[i][7:-2])\n",
    "    return lrcode\n",
    "#print GetLeftRightCode(\"D:\\Datasets\\MotionData\\MotionDataB\\wb_pos_info.txt\")"
   ]
  },
  {
   "cell_type": "code",
   "execution_count": 5,
   "metadata": {
    "collapsed": true
   },
   "outputs": [],
   "source": [
    "def AverageFilter(l, windowsize):#list windowsize default is 3,if change needs to change weights and N\n",
    "    _l = []\n",
    "    N = (windowsize-1)/2\n",
    "    for i in range(len(l)):\n",
    "        if i >= N and i <= len(l)-1-N:\n",
    "            _l.append(np.average(l[i-N:i+N+1],weights=[1 for j in range(windowsize)]))\n",
    "        else:\n",
    "            _l.append(l[i])\n",
    "    return _l"
   ]
  },
  {
   "cell_type": "code",
   "execution_count": 6,
   "metadata": {
    "collapsed": true
   },
   "outputs": [],
   "source": [
    "def DownSampling(x, rate):\n",
    "    downsampling_x = []\n",
    "    for i in range(len(x)):\n",
    "        if i%rate == rate-1:\n",
    "            downsampling_x.append(x[i])\n",
    "    return downsampling_x"
   ]
  },
  {
   "cell_type": "code",
   "execution_count": 9,
   "metadata": {
    "collapsed": true
   },
   "outputs": [],
   "source": [
    "def SaveSpectrogramFig(motion_data, subject, num, lrcode, action):\n",
    "    l_ing_data_x = []\n",
    "    r_ing_data_x = []\n",
    "    l_ing_data_y = []\n",
    "    r_ing_data_y = []\n",
    "    l_ing_data_z = []\n",
    "    r_ing_data_z = []\n",
    "    for i in range(data.shape[0]):\n",
    "         if motion_data[i][6] == action[1:]:\n",
    "                if motion_data[i][2] == lrcode[0]: \n",
    "                    l_ing_data_x.append(motion_data[i][3])\n",
    "                    l_ing_data_y.append(motion_data[i][4])\n",
    "                    l_ing_data_z.append(motion_data[i][5])\n",
    "                elif motion_data[i][2] == lrcode[1]:\n",
    "                    r_ing_data_x.append(motion_data[i][3])\n",
    "                    r_ing_data_y.append(motion_data[i][4])\n",
    "                    r_ing_data_z.append(motion_data[i][5])\n",
    "    print(\"Subject: %s Num: %s Action: %s Left: %d Right: %d\" % (subject[-1], num[-5],action, len(l_ing_data_x), len(r_ing_data_x)))\n",
    "    xyz = ['x','y','z']\n",
    "    \n",
    "    if len(l_ing_data_x) > 130:\n",
    "        for j in range(1):    \n",
    "            f1 = plt.figure(1)\n",
    "            NFFT = 128       # the length of the windowing segments, len must be longer than 128\n",
    "            Fs = int(52)  # the sampling frequency\n",
    "            dimT = 31#(len-NFFT)/(NFFT-overlap)+1=dimT\n",
    "            noverlap = NFFT - (len(l_ing_data_x)-NFFT)/(dimT-1)\n",
    "            if noverlap >= NFFT:\n",
    "                noverlap = 127\n",
    "            Pxx, freqs, bins, im = plt.specgram(l_ing_data_x-np.mean(l_ing_data_x), NFFT = NFFT, Fs = Fs, noverlap = noverlap)\n",
    "            plt.axis('off')\n",
    "            plt.margins(0,0)\n",
    "            plt.gca().xaxis.set_major_locator(plt.NullLocator())\n",
    "            plt.gca().yaxis.set_major_locator(plt.NullLocator())\n",
    "            #plt.show()\n",
    "            plt.savefig(SPECTPATH+action[1:]+'\\\\'+'{}{}{}{}{}.png' .format(subject[-1], num[-5], 'Left', xyz[j], action),bbox_inches='tight',pad_inches = 0)\n",
    "            plt.close('all')\n",
    "    \n",
    "    if len(r_ing_data_x) > 130:\n",
    "        for j in range(1):    \n",
    "            f1 = plt.figure(1)\n",
    "            NFFT = 128       # the length of the windowing segments, len must be longer than 128\n",
    "            Fs = int(52)  # the sampling frequency\n",
    "            dimT = 31#(len-NFFT)/(NFFT-overlap)+1=dimT\n",
    "            noverlap = NFFT - (len(r_ing_data_x)-NFFT)/(dimT-1)\n",
    "            if noverlap >= NFFT:\n",
    "                noverlap = 127\n",
    "            Pxx, freqs, bins, im = plt.specgram(r_ing_data_x-np.mean(r_ing_data_x),  NFFT = NFFT, Fs = Fs, noverlap = noverlap)\n",
    "            plt.axis('off')\n",
    "            plt.margins(0,0)\n",
    "            plt.gca().xaxis.set_major_locator(plt.NullLocator())\n",
    "            plt.gca().yaxis.set_major_locator(plt.NullLocator())\n",
    "            #plt.show()\n",
    "            plt.savefig(SPECTPATH+action[1:]+'\\\\'+'{}{}{}{}{}.png' .format(subject[-1], num[-5], 'Left', xyz[j], action), bbox_inches='tight',pad_inches = 0)\n",
    "            plt.close('all')\n",
    "    \n",
    "    return 0"
   ]
  },
  {
   "cell_type": "code",
   "execution_count": 12,
   "metadata": {
    "collapsed": true
   },
   "outputs": [],
   "source": [
    "subjects = os.listdir(PATH)"
   ]
  },
  {
   "cell_type": "code",
   "execution_count": null,
   "metadata": {
    "collapsed": true
   },
   "outputs": [],
   "source": [
    "l_len_total = {x[1:] : [] for x in actionTags}\n",
    "r_len_total = {x[1:] : [] for x in actionTags}"
   ]
  },
  {
   "cell_type": "code",
   "execution_count": null,
   "metadata": {
    "collapsed": true
   },
   "outputs": [],
   "source": [
    "# save figs\n",
    "for subject in subjects:\n",
    "    nums = os.listdir(PATH+subject+'\\\\')\n",
    "    for num in nums:\n",
    "        if num[0] =='L':\n",
    "            csvPATH = PATH+subject+'\\\\'+'LabelledData{}{}.csv'.format(subject[-1], num[-5])\n",
    "            data = pd.read_csv(csvPATH)\n",
    "            lrcode = GetLeftRightCode(PATH+subject+'\\\\'+'wb_pos_info.txt')\n",
    "            motion_data = []# 0 time w_id x y z activies\n",
    "            for i in range(data.shape[0]):\n",
    "                motion_data.append(map(lambda x : x, data.iloc[i]))\n",
    "            for action in actionTags:\n",
    "                #SaveAveragedFig(motion_data, subject, num, lrcode, action)\n",
    "                #SaveMagFig(motion_data, subject, num, lrcode, action)\n",
    "                #SaveSpectrogramFig(motion_data, subject, num, lrcode, action)\n",
    "                l_len, r_len = SaveDataLen(motion_data, subject, num, lrcode, action)\n",
    "                _l_len_total = l_len_total[action[1:]]\n",
    "                _r_len_total = r_len_total[action[1:]]\n",
    "                _l_len_total.append(l_len)\n",
    "                _r_len_total.append(r_len)\n",
    "                l_len_total[action] = _l_len_total\n",
    "                r_len_total[action] = _r_len_total"
   ]
  },
  {
   "cell_type": "code",
   "execution_count": 21,
   "metadata": {},
   "outputs": [
    {
     "name": "stdout",
     "output_type": "stream",
     "text": [
      "(960L,)\n"
     ]
    }
   ],
   "source": [
    "segments = np.load('D:\\Datasets\\\\' + 'rawX3dim_longerthan256.npy')\n",
    "labels = np.load('D:\\Datasets\\\\' + 'rawY3dim_longerthan256.npy')\n",
    "print segments.shape"
   ]
  },
  {
   "cell_type": "code",
   "execution_count": 22,
   "metadata": {},
   "outputs": [
    {
     "name": "stdout",
     "output_type": "stream",
     "text": [
      "199\n",
      "196\n",
      "199\n",
      "178\n",
      "188\n"
     ]
    }
   ],
   "source": [
    "segmentsSitting = []\n",
    "nSitting = 0\n",
    "for i in range(len(labels)):\n",
    "    if labels[i] == 'Sitting':\n",
    "        segmentsSitting.append(segments[i])\n",
    "        if len(segments[i]) > 256:\n",
    "            nSitting += 1\n",
    "print nSitting\n",
    "segmentsStanding = []\n",
    "nSitting = 0\n",
    "for i in range(len(labels)):\n",
    "    if labels[i] == 'Standing':\n",
    "        segmentsStanding.append(segments[i])\n",
    "        if len(segments[i]) > 256:\n",
    "            nSitting += 1\n",
    "print nSitting\n",
    "segmentsLying = []\n",
    "nLying = 0\n",
    "for i in range(len(labels)):\n",
    "    if labels[i] == 'Lying':\n",
    "        segmentsLying.append(segments[i])\n",
    "        if len(segments[i]) > 256:\n",
    "            nLying += 1\n",
    "print nLying\n",
    "\n",
    "segmentsSquating = []\n",
    "nSquating = 0\n",
    "for i in range(len(labels)):\n",
    "    if labels[i] == 'Squating':\n",
    "        segmentsSquating.append(segments[i])\n",
    "        if len(segments[i]) >= 256:\n",
    "            nSquating += 1\n",
    "print nSquating\n",
    "\n",
    "segmentsWalking = []\n",
    "nWalking = 0\n",
    "for i in range(len(labels)):\n",
    "    if labels[i] == 'Walking':\n",
    "        segmentsWalking.append(segments[i])\n",
    "        if len(segments[i]) > 256:\n",
    "            nWalking += 1\n",
    "print nWalking"
   ]
  }
 ],
 "metadata": {
  "kernelspec": {
   "display_name": "Python 2",
   "language": "python",
   "name": "python2"
  },
  "language_info": {
   "codemirror_mode": {
    "name": "ipython",
    "version": 2
   },
   "file_extension": ".py",
   "mimetype": "text/x-python",
   "name": "python",
   "nbconvert_exporter": "python",
   "pygments_lexer": "ipython2",
   "version": "2.7.14"
  }
 },
 "nbformat": 4,
 "nbformat_minor": 2
}

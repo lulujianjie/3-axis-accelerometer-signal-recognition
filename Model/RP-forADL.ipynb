{
 "cells": [
  {
   "cell_type": "code",
   "execution_count": 3,
   "metadata": {
    "collapsed": true
   },
   "outputs": [],
   "source": [
    "import os  \n",
    "import pandas as pd\n",
    "import numpy as np\n",
    "import matplotlib.pyplot as plt\n",
    "from matplotlib.pylab import rcParams\n",
    "import math"
   ]
  },
  {
   "cell_type": "code",
   "execution_count": 4,
   "metadata": {
    "collapsed": true
   },
   "outputs": [],
   "source": [
    "PATH = \"/home/jack/Desktop/Datasets/ADL_Dataset/HMP_Dataset/\"\n",
    "NEWPATH = \"/home/jack/Desktop/Datasets/ADL_Dataset/\"\n",
    "SAVEPATH = \"/home/jack/Desktop/Datasets/ADL_varRP/\""
   ]
  },
  {
   "cell_type": "code",
   "execution_count": 5,
   "metadata": {
    "collapsed": true
   },
   "outputs": [],
   "source": [
    "def Distance2dim(a,b):\n",
    "    return pow(pow(a[1]-b[1],2)+pow(a[0]-b[0],2), 0.5)\n",
    "def Cosin2vec(a,b):\n",
    "    return (a[1]*b[1]+a[0]*b[0])/(pow(pow(a[1],2) + pow(a[0],2) , 0.5)*pow(pow(b[1],2) + pow(b[0],2) , 0.5)) \n",
    "def WeightAngle(a,b):\n",
    "    return math.exp(2*(1.1 - Cosin2vec(a,b)))\n",
    "def varRP(data, dim):#dim:=x,y,z\n",
    "    x = []\n",
    "    if dim == 'x':\n",
    "        for j in range(150):\n",
    "            x.append(data[j][0])\n",
    "    elif dim == 'y':\n",
    "        for j in range(150):\n",
    "            x.append(data[j][1])\n",
    "    elif dim == 'z':\n",
    "        for j in range(150):\n",
    "            x.append(data[j][2])\n",
    "    \n",
    "    s = []\n",
    "    for i in range(len(x)-1):\n",
    "        _s = []\n",
    "        _s.append(x[i])\n",
    "        _s.append(x[i+1])\n",
    "        s.append(_s)\n",
    "        \n",
    "    #print s\n",
    "    dimR = len(x)-1\n",
    "    #R = np.zeros((dimR,dimR))\n",
    "    R = np.eye(dimR)\n",
    "    for i in range(dimR):\n",
    "        for j in range(dimR):\n",
    "            if Cosin2vec(list(map(lambda x:x[0]-x[1], zip(s[i], s[j]))), [1,1]) >= pow(2, 0.5)/2:\n",
    "                sign =1.0\n",
    "            else:\n",
    "                sign =-1.0\n",
    "            R[i][j] = sign*Distance2dim(s[i],s[j])\n",
    "    return R\n",
    "def RP(data, dim):#dim:=x,y,z\n",
    "    x = []\n",
    "    if dim == 'x':\n",
    "        for j in range(150):\n",
    "            x.append(data[j][0])\n",
    "    elif dim == 'y':\n",
    "        for j in range(150):\n",
    "            x.append(data[j][1])\n",
    "    elif dim == 'z':\n",
    "        for j in range(150):\n",
    "            x.append(data[j][2])\n",
    "    \n",
    "    s = []\n",
    "    for i in range(len(x)-1):\n",
    "        _s = []\n",
    "        _s.append(x[i])\n",
    "        _s.append(x[i+1])\n",
    "        s.append(_s)\n",
    "        \n",
    "    #print s\n",
    "    dimR = len(x)-1\n",
    "    R = np.zeros((dimR,dimR))\n",
    "\n",
    "    for i in range(dimR):\n",
    "        for j in range(dimR):\n",
    "            R[i][j] = Distance2dim(s[i],s[j])\n",
    "    return R\n",
    "def RemoveZero(l):\n",
    "    nonZeroL = []\n",
    "    #nonZeroL = []\n",
    "    for i in range(len(l)):\n",
    "        if l[i] != 0.0:\n",
    "            nonZeroL.append(l[i])\n",
    "    return nonZeroL\n",
    "#a = [0,-1,0.02,3]\n",
    "#print RemoveZero(a)\n",
    "def NormalizeMatrix(_r):\n",
    "    dimR = _r.shape[0]\n",
    "    h_max = []\n",
    "    for i in range(dimR):\n",
    "        h_max.append(max(_r[i]))\n",
    "    _max =  max(h_max)\n",
    "    h_min = []\n",
    "    for i in range(dimR):\n",
    "        #print _r[i]\n",
    "        h_min.append(min(RemoveZero(_r[i])))\n",
    "    \n",
    "    _min =  min(h_min)\n",
    "    _max_min = _max - _min\n",
    "    _normalizedRP = np.zeros((dimR,dimR))\n",
    "    for i in range(dimR):\n",
    "        for j in range(dimR):\n",
    "            _normalizedRP[i][j] = (_r[i][j]-_min)/_max_min\n",
    "    return _normalizedRP\n",
    "def RGBfromRPMatrix_of_XYZ(X,Y,Z):\n",
    "    if X.shape != Y.shape or X.shape != Z.shape or Y.shape != Z.shape:\n",
    "        print('XYZ should be in same shape!')\n",
    "        return 0\n",
    "    \n",
    "    dimImage = X.shape[0]\n",
    "    newImage = np.zeros((dimImage,dimImage,3))\n",
    "    for i in range(dimImage):\n",
    "        for j in range(dimImage):\n",
    "            _pixel = []\n",
    "            _pixel.append(X[i][j])\n",
    "            _pixel.append(Y[i][j])\n",
    "            _pixel.append(Z[i][j])\n",
    "            newImage[i][j] = _pixel\n",
    "    return newImage\n",
    "def SaveRP(x_array,y_array,z_array):\n",
    "    _r = RP(x_array)\n",
    "    _g = RP(y_array)\n",
    "    _b = RP(z_array)\n",
    "    plt.close('all')\n",
    "    plt.axis('off')\n",
    "    plt.margins(0,0)\n",
    "    plt.gca().xaxis.set_major_locator(plt.NullLocator())\n",
    "    plt.gca().yaxis.set_major_locator(plt.NullLocator())\n",
    "    newImage = RGBfromRPMatrix_of_XYZ(NormalizeMatrix(_r), NormalizeMatrix(_g), NormalizeMatrix(_b))\n",
    "        #newImage = RGBfromRPMatrix_of_XYZ(_r, _g, _b)\n",
    "    plt.imshow(newImage)\n",
    "    plt.savefig('D:\\Datasets\\ADL_Dataset\\\\'+action+'\\\\'+'RP\\\\''{}{}.png' .format(action, subject[15:]),bbox_inches='tight',pad_inches = 0)\n",
    "    plt.close('all')\n",
    "def SaveRP_XYZ(x,action, normalized):\n",
    "    _r = RP(x,'x')\n",
    "    _g = RP(x,'y')\n",
    "    _b = RP(x,'z')\n",
    "    plt.close('all')\n",
    "    plt.axis('off')\n",
    "    plt.margins(0,0)\n",
    "    plt.gca().xaxis.set_major_locator(plt.NullLocator())\n",
    "    plt.gca().yaxis.set_major_locator(plt.NullLocator())\n",
    "    if normalized:\n",
    "        newImage = RGBfromRPMatrix_of_XYZ(NormalizeMatrix(_r), NormalizeMatrix(_g), NormalizeMatrix(_b))\n",
    "        #newImage = RGBfromRPMatrix_of_XYZ(_r, _g, _b)\n",
    "        plt.imshow(newImage)\n",
    "        plt.savefig(NEWPATH+action+'\\\\RP\\\\'+'{}{}.png'  .format(action, i),bbox_inches='tight',pad_inches = 0)\n",
    "        plt.close('all')\n",
    "    else:\n",
    "        newImage = RGBfromRPMatrix_of_XYZ(_r, _g, _b)\n",
    "        plt.imshow(newImage)\n",
    "        plt.savefig(NEWPATH+action+'\\\\RP\\\\'+'{}{}.png'  .format(action, i),bbox_inches='tight',pad_inches = 0)\n",
    "        plt.close('all')\n",
    "\n",
    "def SavevarRP_XYZ(x,action, normalized):\n",
    "    _r = varRP(x,'x')\n",
    "    _g = varRP(x,'y')\n",
    "    _b = varRP(x,'z')\n",
    "    plt.close('all')\n",
    "    plt.axis('off')\n",
    "    plt.margins(0,0)\n",
    "    plt.gca().xaxis.set_major_locator(plt.NullLocator())\n",
    "    plt.gca().yaxis.set_major_locator(plt.NullLocator())\n",
    "    if normalized:\n",
    "        newImage = RGBfromRPMatrix_of_XYZ(NormalizeMatrix(_r), NormalizeMatrix(_g), NormalizeMatrix(_b))\n",
    "        #newImage = RGBfromRPMatrix_of_XYZ(_r, _g, _b)\n",
    "        plt.imshow(newImage)\n",
    "        plt.savefig(SAVEPATH+'train/'+action+'/'+'{}{}.png'  .format(action, i),bbox_inches='tight',pad_inches = 0)\n",
    "        plt.close('all')\n",
    "    else:\n",
    "        newImage = RGBfromRPMatrix_of_XYZ(_r, _g, _b)\n",
    "        plt.imshow(newImage)\n",
    "        plt.savefig(SAVEPATH+'train/'+action+'/'+'{}{}.png'  .format(action, i),bbox_inches='tight',pad_inches = 0)\n",
    "        plt.close('all')"
   ]
  },
  {
   "cell_type": "code",
   "execution_count": 6,
   "metadata": {},
   "outputs": [
    {
     "name": "stdout",
     "output_type": "stream",
     "text": [
      "['Drink_glass', 'Walk', 'Getup_bed', 'Sitdown_chair', 'Pour_water', 'Standup_chair', 'Climb_stairs']\n"
     ]
    }
   ],
   "source": [
    "actions = os.listdir(PATH)\n",
    "print actions"
   ]
  },
  {
   "cell_type": "code",
   "execution_count": 7,
   "metadata": {},
   "outputs": [
    {
     "name": "stderr",
     "output_type": "stream",
     "text": [
      "/home/jack/anaconda2/lib/python2.7/site-packages/ipykernel_launcher.py:4: RuntimeWarning: invalid value encountered in double_scalars\n",
      "  after removing the cwd from sys.path.\n"
     ]
    }
   ],
   "source": [
    "\n",
    "for action in actions:\n",
    "    segments = np.load(NEWPATH+action+'.npy')\n",
    "    for i in range(len(segments)):\n",
    "        SavevarRP_XYZ(segments[i], action, normalized = 1)"
   ]
  },
  {
   "cell_type": "code",
   "execution_count": null,
   "metadata": {
    "collapsed": true
   },
   "outputs": [],
   "source": []
  }
 ],
 "metadata": {
  "kernelspec": {
   "display_name": "Python 2",
   "language": "python",
   "name": "python2"
  },
  "language_info": {
   "codemirror_mode": {
    "name": "ipython",
    "version": 2
   },
   "file_extension": ".py",
   "mimetype": "text/x-python",
   "name": "python",
   "nbconvert_exporter": "python",
   "pygments_lexer": "ipython2",
   "version": "2.7.14"
  }
 },
 "nbformat": 4,
 "nbformat_minor": 2
}
